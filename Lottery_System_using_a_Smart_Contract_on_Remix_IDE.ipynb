{
  "nbformat": 4,
  "nbformat_minor": 0,
  "metadata": {
    "colab": {
      "provenance": []
    },
    "kernelspec": {
      "name": "python3",
      "display_name": "Python 3"
    },
    "language_info": {
      "name": "python"
    }
  },
  "cells": [
    {
      "cell_type": "code",
      "source": [
        "\n",
        "!pip install py-solc-x web3\n"
      ],
      "metadata": {
        "colab": {
          "base_uri": "https://localhost:8080/"
        },
        "id": "0MmgAGdJ4-On",
        "outputId": "0a296262-b140-43b0-dfe4-f33e64536ed7"
      },
      "execution_count": null,
      "outputs": [
        {
          "output_type": "stream",
          "name": "stdout",
          "text": [
            "Collecting py-solc-x\n",
            "  Downloading py_solc_x-2.0.4-py3-none-any.whl.metadata (5.7 kB)\n",
            "Collecting web3\n",
            "  Downloading web3-7.13.0-py3-none-any.whl.metadata (5.6 kB)\n",
            "Requirement already satisfied: requests<3,>=2.19.0 in /usr/local/lib/python3.12/dist-packages (from py-solc-x) (2.32.3)\n",
            "Requirement already satisfied: packaging>=23.1 in /usr/local/lib/python3.12/dist-packages (from py-solc-x) (25.0)\n",
            "Collecting eth-abi>=5.0.1 (from web3)\n",
            "  Downloading eth_abi-5.2.0-py3-none-any.whl.metadata (3.8 kB)\n",
            "Collecting eth-account>=0.13.6 (from web3)\n",
            "  Downloading eth_account-0.13.7-py3-none-any.whl.metadata (3.7 kB)\n",
            "Collecting eth-hash>=0.5.1 (from eth-hash[pycryptodome]>=0.5.1->web3)\n",
            "  Downloading eth_hash-0.7.1-py3-none-any.whl.metadata (4.2 kB)\n",
            "Collecting eth-typing>=5.0.0 (from web3)\n",
            "  Downloading eth_typing-5.2.1-py3-none-any.whl.metadata (3.2 kB)\n",
            "Collecting eth-utils>=5.0.0 (from web3)\n",
            "  Downloading eth_utils-5.3.0-py3-none-any.whl.metadata (5.7 kB)\n",
            "Collecting hexbytes>=1.2.0 (from web3)\n",
            "  Downloading hexbytes-1.3.1-py3-none-any.whl.metadata (3.3 kB)\n",
            "Requirement already satisfied: aiohttp>=3.7.4.post0 in /usr/local/lib/python3.12/dist-packages (from web3) (3.12.15)\n",
            "Requirement already satisfied: pydantic>=2.4.0 in /usr/local/lib/python3.12/dist-packages (from web3) (2.11.7)\n",
            "Requirement already satisfied: typing-extensions>=4.0.1 in /usr/local/lib/python3.12/dist-packages (from web3) (4.14.1)\n",
            "Collecting types-requests>=2.0.0 (from web3)\n",
            "  Downloading types_requests-2.32.4.20250809-py3-none-any.whl.metadata (2.0 kB)\n",
            "Requirement already satisfied: websockets<16.0.0,>=10.0.0 in /usr/local/lib/python3.12/dist-packages (from web3) (15.0.1)\n",
            "Collecting pyunormalize>=15.0.0 (from web3)\n",
            "  Downloading pyunormalize-16.0.0-py3-none-any.whl.metadata (4.0 kB)\n",
            "Requirement already satisfied: aiohappyeyeballs>=2.5.0 in /usr/local/lib/python3.12/dist-packages (from aiohttp>=3.7.4.post0->web3) (2.6.1)\n",
            "Requirement already satisfied: aiosignal>=1.4.0 in /usr/local/lib/python3.12/dist-packages (from aiohttp>=3.7.4.post0->web3) (1.4.0)\n",
            "Requirement already satisfied: attrs>=17.3.0 in /usr/local/lib/python3.12/dist-packages (from aiohttp>=3.7.4.post0->web3) (25.3.0)\n",
            "Requirement already satisfied: frozenlist>=1.1.1 in /usr/local/lib/python3.12/dist-packages (from aiohttp>=3.7.4.post0->web3) (1.7.0)\n",
            "Requirement already satisfied: multidict<7.0,>=4.5 in /usr/local/lib/python3.12/dist-packages (from aiohttp>=3.7.4.post0->web3) (6.6.4)\n",
            "Requirement already satisfied: propcache>=0.2.0 in /usr/local/lib/python3.12/dist-packages (from aiohttp>=3.7.4.post0->web3) (0.3.2)\n",
            "Requirement already satisfied: yarl<2.0,>=1.17.0 in /usr/local/lib/python3.12/dist-packages (from aiohttp>=3.7.4.post0->web3) (1.20.1)\n",
            "Collecting parsimonious<0.11.0,>=0.10.0 (from eth-abi>=5.0.1->web3)\n",
            "  Downloading parsimonious-0.10.0-py3-none-any.whl.metadata (25 kB)\n",
            "Collecting bitarray>=2.4.0 (from eth-account>=0.13.6->web3)\n",
            "  Downloading bitarray-3.6.1-cp312-cp312-manylinux_2_17_x86_64.manylinux2014_x86_64.whl.metadata (35 kB)\n",
            "Collecting eth-keyfile<0.9.0,>=0.7.0 (from eth-account>=0.13.6->web3)\n",
            "  Downloading eth_keyfile-0.8.1-py3-none-any.whl.metadata (8.5 kB)\n",
            "Collecting eth-keys>=0.4.0 (from eth-account>=0.13.6->web3)\n",
            "  Downloading eth_keys-0.7.0-py3-none-any.whl.metadata (13 kB)\n",
            "Collecting eth-rlp>=2.1.0 (from eth-account>=0.13.6->web3)\n",
            "  Downloading eth_rlp-2.2.0-py3-none-any.whl.metadata (3.3 kB)\n",
            "Collecting rlp>=1.0.0 (from eth-account>=0.13.6->web3)\n",
            "  Downloading rlp-4.1.0-py3-none-any.whl.metadata (3.2 kB)\n",
            "Collecting ckzg>=2.0.0 (from eth-account>=0.13.6->web3)\n",
            "  Downloading ckzg-2.1.1-cp312-cp312-manylinux_2_17_x86_64.manylinux2014_x86_64.whl.metadata (887 bytes)\n",
            "Collecting pycryptodome<4,>=3.6.6 (from eth-hash[pycryptodome]>=0.5.1->web3)\n",
            "  Downloading pycryptodome-3.23.0-cp37-abi3-manylinux_2_17_x86_64.manylinux2014_x86_64.whl.metadata (3.4 kB)\n",
            "Collecting cytoolz>=0.10.1 (from eth-utils>=5.0.0->web3)\n",
            "  Downloading cytoolz-1.0.1-cp312-cp312-manylinux_2_17_x86_64.manylinux2014_x86_64.whl.metadata (4.6 kB)\n",
            "Requirement already satisfied: annotated-types>=0.6.0 in /usr/local/lib/python3.12/dist-packages (from pydantic>=2.4.0->web3) (0.7.0)\n",
            "Requirement already satisfied: pydantic-core==2.33.2 in /usr/local/lib/python3.12/dist-packages (from pydantic>=2.4.0->web3) (2.33.2)\n",
            "Requirement already satisfied: typing-inspection>=0.4.0 in /usr/local/lib/python3.12/dist-packages (from pydantic>=2.4.0->web3) (0.4.1)\n",
            "Requirement already satisfied: charset-normalizer<4,>=2 in /usr/local/lib/python3.12/dist-packages (from requests<3,>=2.19.0->py-solc-x) (3.4.3)\n",
            "Requirement already satisfied: idna<4,>=2.5 in /usr/local/lib/python3.12/dist-packages (from requests<3,>=2.19.0->py-solc-x) (3.10)\n",
            "Requirement already satisfied: urllib3<3,>=1.21.1 in /usr/local/lib/python3.12/dist-packages (from requests<3,>=2.19.0->py-solc-x) (2.5.0)\n",
            "Requirement already satisfied: certifi>=2017.4.17 in /usr/local/lib/python3.12/dist-packages (from requests<3,>=2.19.0->py-solc-x) (2025.8.3)\n",
            "Requirement already satisfied: toolz>=0.8.0 in /usr/local/lib/python3.12/dist-packages (from cytoolz>=0.10.1->eth-utils>=5.0.0->web3) (0.12.1)\n",
            "Requirement already satisfied: regex>=2022.3.15 in /usr/local/lib/python3.12/dist-packages (from parsimonious<0.11.0,>=0.10.0->eth-abi>=5.0.1->web3) (2024.11.6)\n",
            "Downloading py_solc_x-2.0.4-py3-none-any.whl (18 kB)\n",
            "Downloading web3-7.13.0-py3-none-any.whl (1.4 MB)\n",
            "\u001b[2K   \u001b[90m━━━━━━━━━━━━━━━━━━━━━━━━━━━━━━━━━━━━━━━━\u001b[0m \u001b[32m1.4/1.4 MB\u001b[0m \u001b[31m23.2 MB/s\u001b[0m eta \u001b[36m0:00:00\u001b[0m\n",
            "\u001b[?25hDownloading eth_abi-5.2.0-py3-none-any.whl (28 kB)\n",
            "Downloading eth_account-0.13.7-py3-none-any.whl (587 kB)\n",
            "\u001b[2K   \u001b[90m━━━━━━━━━━━━━━━━━━━━━━━━━━━━━━━━━━━━━━━━\u001b[0m \u001b[32m587.5/587.5 kB\u001b[0m \u001b[31m38.3 MB/s\u001b[0m eta \u001b[36m0:00:00\u001b[0m\n",
            "\u001b[?25hDownloading eth_hash-0.7.1-py3-none-any.whl (8.0 kB)\n",
            "Downloading eth_typing-5.2.1-py3-none-any.whl (19 kB)\n",
            "Downloading eth_utils-5.3.0-py3-none-any.whl (102 kB)\n",
            "\u001b[2K   \u001b[90m━━━━━━━━━━━━━━━━━━━━━━━━━━━━━━━━━━━━━━━━\u001b[0m \u001b[32m102.5/102.5 kB\u001b[0m \u001b[31m7.8 MB/s\u001b[0m eta \u001b[36m0:00:00\u001b[0m\n",
            "\u001b[?25hDownloading hexbytes-1.3.1-py3-none-any.whl (5.1 kB)\n",
            "Downloading pyunormalize-16.0.0-py3-none-any.whl (49 kB)\n",
            "\u001b[2K   \u001b[90m━━━━━━━━━━━━━━━━━━━━━━━━━━━━━━━━━━━━━━━━\u001b[0m \u001b[32m49.2/49.2 kB\u001b[0m \u001b[31m3.6 MB/s\u001b[0m eta \u001b[36m0:00:00\u001b[0m\n",
            "\u001b[?25hDownloading types_requests-2.32.4.20250809-py3-none-any.whl (20 kB)\n",
            "Downloading bitarray-3.6.1-cp312-cp312-manylinux_2_17_x86_64.manylinux2014_x86_64.whl (331 kB)\n",
            "\u001b[2K   \u001b[90m━━━━━━━━━━━━━━━━━━━━━━━━━━━━━━━━━━━━━━━━\u001b[0m \u001b[32m331.4/331.4 kB\u001b[0m \u001b[31m22.3 MB/s\u001b[0m eta \u001b[36m0:00:00\u001b[0m\n",
            "\u001b[?25hDownloading ckzg-2.1.1-cp312-cp312-manylinux_2_17_x86_64.manylinux2014_x86_64.whl (170 kB)\n",
            "\u001b[2K   \u001b[90m━━━━━━━━━━━━━━━━━━━━━━━━━━━━━━━━━━━━━━━━\u001b[0m \u001b[32m170.8/170.8 kB\u001b[0m \u001b[31m12.1 MB/s\u001b[0m eta \u001b[36m0:00:00\u001b[0m\n",
            "\u001b[?25hDownloading cytoolz-1.0.1-cp312-cp312-manylinux_2_17_x86_64.manylinux2014_x86_64.whl (2.1 MB)\n",
            "\u001b[2K   \u001b[90m━━━━━━━━━━━━━━━━━━━━━━━━━━━━━━━━━━━━━━━━\u001b[0m \u001b[32m2.1/2.1 MB\u001b[0m \u001b[31m58.7 MB/s\u001b[0m eta \u001b[36m0:00:00\u001b[0m\n",
            "\u001b[?25hDownloading eth_keyfile-0.8.1-py3-none-any.whl (7.5 kB)\n",
            "Downloading eth_keys-0.7.0-py3-none-any.whl (20 kB)\n",
            "Downloading eth_rlp-2.2.0-py3-none-any.whl (4.4 kB)\n",
            "Downloading parsimonious-0.10.0-py3-none-any.whl (48 kB)\n",
            "\u001b[2K   \u001b[90m━━━━━━━━━━━━━━━━━━━━━━━━━━━━━━━━━━━━━━━━\u001b[0m \u001b[32m48.4/48.4 kB\u001b[0m \u001b[31m3.6 MB/s\u001b[0m eta \u001b[36m0:00:00\u001b[0m\n",
            "\u001b[?25hDownloading pycryptodome-3.23.0-cp37-abi3-manylinux_2_17_x86_64.manylinux2014_x86_64.whl (2.3 MB)\n",
            "\u001b[2K   \u001b[90m━━━━━━━━━━━━━━━━━━━━━━━━━━━━━━━━━━━━━━━━\u001b[0m \u001b[32m2.3/2.3 MB\u001b[0m \u001b[31m74.4 MB/s\u001b[0m eta \u001b[36m0:00:00\u001b[0m\n",
            "\u001b[?25hDownloading rlp-4.1.0-py3-none-any.whl (19 kB)\n",
            "Installing collected packages: ckzg, bitarray, types-requests, pyunormalize, pycryptodome, parsimonious, hexbytes, eth-typing, eth-hash, cytoolz, py-solc-x, eth-utils, rlp, eth-keys, eth-abi, eth-rlp, eth-keyfile, eth-account, web3\n",
            "Successfully installed bitarray-3.6.1 ckzg-2.1.1 cytoolz-1.0.1 eth-abi-5.2.0 eth-account-0.13.7 eth-hash-0.7.1 eth-keyfile-0.8.1 eth-keys-0.7.0 eth-rlp-2.2.0 eth-typing-5.2.1 eth-utils-5.3.0 hexbytes-1.3.1 parsimonious-0.10.0 py-solc-x-2.0.4 pycryptodome-3.23.0 pyunormalize-16.0.0 rlp-4.1.0 types-requests-2.32.4.20250809 web3-7.13.0\n"
          ]
        }
      ]
    },
    {
      "cell_type": "code",
      "source": [
        "!pip install eth-tester\n",
        "!pip install web3 py-solc-x\n",
        "\n"
      ],
      "metadata": {
        "colab": {
          "base_uri": "https://localhost:8080/"
        },
        "id": "ICxat70-6Ji1",
        "outputId": "d3dbe155-5b69-4722-c2f1-df7eb4840632"
      },
      "execution_count": null,
      "outputs": [
        {
          "output_type": "stream",
          "name": "stdout",
          "text": [
            "Requirement already satisfied: eth-tester in /usr/local/lib/python3.12/dist-packages (0.13.0b1)\n",
            "Requirement already satisfied: eth-abi>=3.0.1 in /usr/local/lib/python3.12/dist-packages (from eth-tester) (5.2.0)\n",
            "Requirement already satisfied: eth-account>=0.12.3 in /usr/local/lib/python3.12/dist-packages (from eth-tester) (0.13.7)\n",
            "Requirement already satisfied: eth-keys>=0.4.0 in /usr/local/lib/python3.12/dist-packages (from eth-tester) (0.7.0)\n",
            "Requirement already satisfied: eth-utils>=2.0.0 in /usr/local/lib/python3.12/dist-packages (from eth-tester) (5.3.0)\n",
            "Requirement already satisfied: rlp>=3.0.0 in /usr/local/lib/python3.12/dist-packages (from eth-tester) (4.1.0)\n",
            "Requirement already satisfied: semantic_version>=2.6.0 in /usr/local/lib/python3.12/dist-packages (from eth-tester) (2.10.0)\n",
            "Requirement already satisfied: eth-typing>=3.0.0 in /usr/local/lib/python3.12/dist-packages (from eth-abi>=3.0.1->eth-tester) (5.2.1)\n",
            "Requirement already satisfied: parsimonious<0.11.0,>=0.10.0 in /usr/local/lib/python3.12/dist-packages (from eth-abi>=3.0.1->eth-tester) (0.10.0)\n",
            "Requirement already satisfied: bitarray>=2.4.0 in /usr/local/lib/python3.12/dist-packages (from eth-account>=0.12.3->eth-tester) (3.6.1)\n",
            "Requirement already satisfied: eth-keyfile<0.9.0,>=0.7.0 in /usr/local/lib/python3.12/dist-packages (from eth-account>=0.12.3->eth-tester) (0.8.1)\n",
            "Requirement already satisfied: eth-rlp>=2.1.0 in /usr/local/lib/python3.12/dist-packages (from eth-account>=0.12.3->eth-tester) (2.2.0)\n",
            "Requirement already satisfied: hexbytes>=1.2.0 in /usr/local/lib/python3.12/dist-packages (from eth-account>=0.12.3->eth-tester) (1.3.1)\n",
            "Requirement already satisfied: ckzg>=2.0.0 in /usr/local/lib/python3.12/dist-packages (from eth-account>=0.12.3->eth-tester) (2.1.1)\n",
            "Requirement already satisfied: pydantic>=2.0.0 in /usr/local/lib/python3.12/dist-packages (from eth-account>=0.12.3->eth-tester) (2.11.7)\n",
            "Requirement already satisfied: eth-hash>=0.3.1 in /usr/local/lib/python3.12/dist-packages (from eth-utils>=2.0.0->eth-tester) (0.7.1)\n",
            "Requirement already satisfied: cytoolz>=0.10.1 in /usr/local/lib/python3.12/dist-packages (from eth-utils>=2.0.0->eth-tester) (1.0.1)\n",
            "Requirement already satisfied: toolz>=0.8.0 in /usr/local/lib/python3.12/dist-packages (from cytoolz>=0.10.1->eth-utils>=2.0.0->eth-tester) (0.12.1)\n",
            "Requirement already satisfied: pycryptodome<4,>=3.6.6 in /usr/local/lib/python3.12/dist-packages (from eth-keyfile<0.9.0,>=0.7.0->eth-account>=0.12.3->eth-tester) (3.23.0)\n",
            "Requirement already satisfied: typing_extensions>=4.5.0 in /usr/local/lib/python3.12/dist-packages (from eth-typing>=3.0.0->eth-abi>=3.0.1->eth-tester) (4.14.1)\n",
            "Requirement already satisfied: regex>=2022.3.15 in /usr/local/lib/python3.12/dist-packages (from parsimonious<0.11.0,>=0.10.0->eth-abi>=3.0.1->eth-tester) (2024.11.6)\n",
            "Requirement already satisfied: annotated-types>=0.6.0 in /usr/local/lib/python3.12/dist-packages (from pydantic>=2.0.0->eth-account>=0.12.3->eth-tester) (0.7.0)\n",
            "Requirement already satisfied: pydantic-core==2.33.2 in /usr/local/lib/python3.12/dist-packages (from pydantic>=2.0.0->eth-account>=0.12.3->eth-tester) (2.33.2)\n",
            "Requirement already satisfied: typing-inspection>=0.4.0 in /usr/local/lib/python3.12/dist-packages (from pydantic>=2.0.0->eth-account>=0.12.3->eth-tester) (0.4.1)\n",
            "Requirement already satisfied: web3 in /usr/local/lib/python3.12/dist-packages (7.13.0)\n",
            "Requirement already satisfied: py-solc-x in /usr/local/lib/python3.12/dist-packages (2.0.4)\n",
            "Requirement already satisfied: eth-abi>=5.0.1 in /usr/local/lib/python3.12/dist-packages (from web3) (5.2.0)\n",
            "Requirement already satisfied: eth-account>=0.13.6 in /usr/local/lib/python3.12/dist-packages (from web3) (0.13.7)\n",
            "Requirement already satisfied: eth-hash>=0.5.1 in /usr/local/lib/python3.12/dist-packages (from eth-hash[pycryptodome]>=0.5.1->web3) (0.7.1)\n",
            "Requirement already satisfied: eth-typing>=5.0.0 in /usr/local/lib/python3.12/dist-packages (from web3) (5.2.1)\n",
            "Requirement already satisfied: eth-utils>=5.0.0 in /usr/local/lib/python3.12/dist-packages (from web3) (5.3.0)\n",
            "Requirement already satisfied: hexbytes>=1.2.0 in /usr/local/lib/python3.12/dist-packages (from web3) (1.3.1)\n",
            "Requirement already satisfied: aiohttp>=3.7.4.post0 in /usr/local/lib/python3.12/dist-packages (from web3) (3.12.15)\n",
            "Requirement already satisfied: pydantic>=2.4.0 in /usr/local/lib/python3.12/dist-packages (from web3) (2.11.7)\n",
            "Requirement already satisfied: requests>=2.23.0 in /usr/local/lib/python3.12/dist-packages (from web3) (2.32.3)\n",
            "Requirement already satisfied: typing-extensions>=4.0.1 in /usr/local/lib/python3.12/dist-packages (from web3) (4.14.1)\n",
            "Requirement already satisfied: types-requests>=2.0.0 in /usr/local/lib/python3.12/dist-packages (from web3) (2.32.4.20250809)\n",
            "Requirement already satisfied: websockets<16.0.0,>=10.0.0 in /usr/local/lib/python3.12/dist-packages (from web3) (15.0.1)\n",
            "Requirement already satisfied: pyunormalize>=15.0.0 in /usr/local/lib/python3.12/dist-packages (from web3) (16.0.0)\n",
            "Requirement already satisfied: packaging>=23.1 in /usr/local/lib/python3.12/dist-packages (from py-solc-x) (25.0)\n",
            "Requirement already satisfied: aiohappyeyeballs>=2.5.0 in /usr/local/lib/python3.12/dist-packages (from aiohttp>=3.7.4.post0->web3) (2.6.1)\n",
            "Requirement already satisfied: aiosignal>=1.4.0 in /usr/local/lib/python3.12/dist-packages (from aiohttp>=3.7.4.post0->web3) (1.4.0)\n",
            "Requirement already satisfied: attrs>=17.3.0 in /usr/local/lib/python3.12/dist-packages (from aiohttp>=3.7.4.post0->web3) (25.3.0)\n",
            "Requirement already satisfied: frozenlist>=1.1.1 in /usr/local/lib/python3.12/dist-packages (from aiohttp>=3.7.4.post0->web3) (1.7.0)\n",
            "Requirement already satisfied: multidict<7.0,>=4.5 in /usr/local/lib/python3.12/dist-packages (from aiohttp>=3.7.4.post0->web3) (6.6.4)\n",
            "Requirement already satisfied: propcache>=0.2.0 in /usr/local/lib/python3.12/dist-packages (from aiohttp>=3.7.4.post0->web3) (0.3.2)\n",
            "Requirement already satisfied: yarl<2.0,>=1.17.0 in /usr/local/lib/python3.12/dist-packages (from aiohttp>=3.7.4.post0->web3) (1.20.1)\n",
            "Requirement already satisfied: parsimonious<0.11.0,>=0.10.0 in /usr/local/lib/python3.12/dist-packages (from eth-abi>=5.0.1->web3) (0.10.0)\n",
            "Requirement already satisfied: bitarray>=2.4.0 in /usr/local/lib/python3.12/dist-packages (from eth-account>=0.13.6->web3) (3.6.1)\n",
            "Requirement already satisfied: eth-keyfile<0.9.0,>=0.7.0 in /usr/local/lib/python3.12/dist-packages (from eth-account>=0.13.6->web3) (0.8.1)\n",
            "Requirement already satisfied: eth-keys>=0.4.0 in /usr/local/lib/python3.12/dist-packages (from eth-account>=0.13.6->web3) (0.7.0)\n",
            "Requirement already satisfied: eth-rlp>=2.1.0 in /usr/local/lib/python3.12/dist-packages (from eth-account>=0.13.6->web3) (2.2.0)\n",
            "Requirement already satisfied: rlp>=1.0.0 in /usr/local/lib/python3.12/dist-packages (from eth-account>=0.13.6->web3) (4.1.0)\n",
            "Requirement already satisfied: ckzg>=2.0.0 in /usr/local/lib/python3.12/dist-packages (from eth-account>=0.13.6->web3) (2.1.1)\n",
            "Requirement already satisfied: pycryptodome<4,>=3.6.6 in /usr/local/lib/python3.12/dist-packages (from eth-hash[pycryptodome]>=0.5.1->web3) (3.23.0)\n",
            "Requirement already satisfied: cytoolz>=0.10.1 in /usr/local/lib/python3.12/dist-packages (from eth-utils>=5.0.0->web3) (1.0.1)\n",
            "Requirement already satisfied: annotated-types>=0.6.0 in /usr/local/lib/python3.12/dist-packages (from pydantic>=2.4.0->web3) (0.7.0)\n",
            "Requirement already satisfied: pydantic-core==2.33.2 in /usr/local/lib/python3.12/dist-packages (from pydantic>=2.4.0->web3) (2.33.2)\n",
            "Requirement already satisfied: typing-inspection>=0.4.0 in /usr/local/lib/python3.12/dist-packages (from pydantic>=2.4.0->web3) (0.4.1)\n",
            "Requirement already satisfied: charset-normalizer<4,>=2 in /usr/local/lib/python3.12/dist-packages (from requests>=2.23.0->web3) (3.4.3)\n",
            "Requirement already satisfied: idna<4,>=2.5 in /usr/local/lib/python3.12/dist-packages (from requests>=2.23.0->web3) (3.10)\n",
            "Requirement already satisfied: urllib3<3,>=1.21.1 in /usr/local/lib/python3.12/dist-packages (from requests>=2.23.0->web3) (2.5.0)\n",
            "Requirement already satisfied: certifi>=2017.4.17 in /usr/local/lib/python3.12/dist-packages (from requests>=2.23.0->web3) (2025.8.3)\n",
            "Requirement already satisfied: toolz>=0.8.0 in /usr/local/lib/python3.12/dist-packages (from cytoolz>=0.10.1->eth-utils>=5.0.0->web3) (0.12.1)\n",
            "Requirement already satisfied: regex>=2022.3.15 in /usr/local/lib/python3.12/dist-packages (from parsimonious<0.11.0,>=0.10.0->eth-abi>=5.0.1->web3) (2024.11.6)\n"
          ]
        }
      ]
    },
    {
      "cell_type": "code",
      "source": [
        "\n",
        "from solcx import compile_source, install_solc\n",
        "from web3 import Web3\n",
        "\n",
        "# Install specific Solidity compiler version\n",
        "install_solc(\"0.8.0\")\n"
      ],
      "metadata": {
        "colab": {
          "base_uri": "https://localhost:8080/"
        },
        "id": "G3fNmpp15DmZ",
        "outputId": "7b784b5d-8c2f-420b-9849-e7e4a355cb07"
      },
      "execution_count": null,
      "outputs": [
        {
          "output_type": "execute_result",
          "data": {
            "text/plain": [
              "<Version('0.8.0')>"
            ]
          },
          "metadata": {},
          "execution_count": 3
        }
      ]
    },
    {
      "cell_type": "code",
      "source": [
        "\n",
        "lottery_contract_source = '''\n",
        "// SPDX-License-Identifier: GPL-3.0\n",
        "pragma solidity >=0.7.0 <0.9.0;\n",
        "\n",
        "contract Lottery {\n",
        "    address public manager;\n",
        "    address payable[] public players;\n",
        "    address payable public winner;\n",
        "\n",
        "    constructor() {\n",
        "        manager = msg.sender;\n",
        "    }\n",
        "\n",
        "    function participate() public payable {\n",
        "        require(msg.value == 1 ether, \"Please pay 1 ether only!\");\n",
        "        players.push(payable(msg.sender));\n",
        "    }\n",
        "\n",
        "    function getBalance() public view returns (uint) {\n",
        "        require(manager == msg.sender, \"You are not the manager!\");\n",
        "        return address(this).balance;\n",
        "    }\n",
        "\n",
        "    uint private manualRandomNumber;\n",
        "\n",
        "    function setManualRandomNumber(uint _manualRandomNumber) external {\n",
        "        require(msg.sender == manager, \"You are not the manager!\");\n",
        "        manualRandomNumber = _manualRandomNumber;\n",
        "    }\n",
        "\n",
        "    function getRandomNumber() internal view returns (uint) {\n",
        "        if (manualRandomNumber != 0) {\n",
        "            return manualRandomNumber;\n",
        "        }\n",
        "        return uint(keccak256(abi.encodePacked(blockhash(block.number - 1), block.timestamp)));\n",
        "    }\n",
        "\n",
        "    function pickWinner() public {\n",
        "        require(msg.sender == manager, \"You are not the manager!\");\n",
        "        require(players.length >= 3, \"There are less than 3 players!\");\n",
        "        uint r = getRandomNumber();\n",
        "        uint index = r % players.length;\n",
        "        winner = players[index];\n",
        "        winner.transfer(address(this).balance);\n",
        "\n",
        "        // ✅ Reset players array\n",
        "        delete players;\n",
        "    }\n",
        "}\n",
        "'''\n",
        "\n"
      ],
      "metadata": {
        "id": "leSnm9685I_3"
      },
      "execution_count": null,
      "outputs": []
    },
    {
      "cell_type": "code",
      "source": [
        "\n",
        "compiled_sol = compile_source(lottery_contract_source, output_values=[\"abi\", \"bin\"])\n",
        "contract_id, contract_interface = compiled_sol.popitem()\n",
        "\n",
        "abi = contract_interface[\"abi\"]\n",
        "bytecode = contract_interface[\"bin\"]\n",
        "\n",
        "print(\" Contract Compiled Successfully\")\n"
      ],
      "metadata": {
        "colab": {
          "base_uri": "https://localhost:8080/"
        },
        "id": "g31hmISF5NAv",
        "outputId": "901db626-ec9d-491d-c8c1-4d0af58a7b6e"
      },
      "execution_count": null,
      "outputs": [
        {
          "output_type": "stream",
          "name": "stdout",
          "text": [
            "✅ Contract Compiled Successfully\n"
          ]
        }
      ]
    },
    {
      "cell_type": "code",
      "source": [
        "\n",
        "w3 = Web3(Web3.EthereumTesterProvider())\n",
        "w3.is_connected()\n"
      ],
      "metadata": {
        "colab": {
          "base_uri": "https://localhost:8080/"
        },
        "id": "gtHNhxq95PFE",
        "outputId": "43c2abe9-cc18-4df5-97b3-f95ecccb1552"
      },
      "execution_count": null,
      "outputs": [
        {
          "output_type": "stream",
          "name": "stdout",
          "text": [
            "Package 'py-evm' not found.\n",
            "Package 'py-evm' not found.\n",
            "Package 'py-evm' not found.\n",
            "Package 'py-evm' not found.\n"
          ]
        },
        {
          "output_type": "stream",
          "name": "stderr",
          "text": [
            "/usr/local/lib/python3.12/dist-packages/eth_tester/backends/__init__.py:45: UserWarning: Ethereum Tester: No backend was explicitly set, and no *full* backends were available.  Falling back to the `MockBackend` which does not support all EVM functionality.  Please refer to the `eth-tester` documentation for information on what backends are available and how to set them.  Your py-evm package may need to be updated.\n",
            "  backend_class = get_chain_backend_class()\n",
            "/usr/local/lib/python3.12/dist-packages/jupyter_client/session.py:151: DeprecationWarning: datetime.datetime.utcnow() is deprecated and scheduled for removal in a future version. Use timezone-aware objects to represent datetimes in UTC: datetime.datetime.now(datetime.UTC).\n",
            "  return datetime.utcnow().replace(tzinfo=utc)\n"
          ]
        },
        {
          "output_type": "execute_result",
          "data": {
            "text/plain": [
              "True"
            ]
          },
          "metadata": {},
          "execution_count": 14
        }
      ]
    },
    {
      "cell_type": "code",
      "source": [
        "\n",
        "# Adding players\n",
        "for i in range(1, 4):\n",
        "    lottery_instance.functions.participate().transact({\"from\": w3.eth.accounts[i], \"value\": w3.to_wei(1, \"ether\")})\n",
        "\n",
        "# Manager picks winner\n",
        "lottery_instance.functions.setManualRandomNumber(42).transact({\"from\": acct})\n",
        "lottery_instance.functions.pickWinner().transact({\"from\": acct})\n",
        "\n",
        "print(\"🏆 Winner Address:\", lottery_instance.functions.winner().call())\n"
      ],
      "metadata": {
        "id": "q9_yyi_d5Uln"
      },
      "execution_count": null,
      "outputs": []
    },
    {
      "cell_type": "code",
      "source": [
        "\n",
        "acct = w3.eth.accounts[0]\n",
        "Lottery = w3.eth.contract(abi=abi, bytecode=bytecode)\n",
        "\n",
        "tx_hash = Lottery.constructor().transact({\"from\": acct})\n",
        "tx_receipt = w3.eth.wait_for_transaction_receipt(tx_hash)\n",
        "\n",
        "lottery_instance = w3.eth.contract(address=tx_receipt.contractAddress, abi=abi)\n",
        "\n",
        "print(\"✅ Contract Deployed at:\", tx_receipt.contractAddress)\n"
      ],
      "metadata": {
        "id": "k4GvuMa061Zc"
      },
      "execution_count": null,
      "outputs": []
    }
  ]
}